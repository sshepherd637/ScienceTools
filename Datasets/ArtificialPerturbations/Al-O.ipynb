{
 "cells": [
  {
   "cell_type": "code",
   "execution_count": 1,
   "metadata": {},
   "outputs": [],
   "source": [
    "# load modules to view the bonds we need to move"
   ]
  },
  {
   "cell_type": "code",
   "execution_count": 69,
   "metadata": {},
   "outputs": [],
   "source": [
    "from ase.io import read, write\n",
    "from ase.visualize import view\n",
    "from ase import Atoms\n",
    "import os\n",
    "import numpy as np\n",
    "import random"
   ]
  },
  {
   "cell_type": "code",
   "execution_count": 31,
   "metadata": {},
   "outputs": [],
   "source": [
    "frame = read('BaseFrame.xyz', ':')\n",
    "baseframe = frame[0]\n",
    "baseframe.wrap(eps=1e-15)"
   ]
  },
  {
   "cell_type": "code",
   "execution_count": 25,
   "metadata": {},
   "outputs": [
    {
     "data": {
      "application/vnd.jupyter.widget-view+json": {
       "model_id": "b944bfdefc544e54b951371ef3aff73a",
       "version_major": 2,
       "version_minor": 0
      },
      "text/plain": [
       "HBox(children=(NGLWidget(), VBox(children=(Dropdown(description='Show', options=('All', 'O', 'Si', 'H', 'Al'),…"
      ]
     },
     "metadata": {},
     "output_type": "display_data"
    }
   ],
   "source": [
    "view(baseframe, viewer='ngl')"
   ]
  },
  {
   "cell_type": "code",
   "execution_count": 50,
   "metadata": {},
   "outputs": [],
   "source": [
    "al_atoms = []\n",
    "for i in range(len(baseframe)):\n",
    "    if baseframe.symbols[i] == 'Al':\n",
    "        al_atoms.append(i)"
   ]
  },
  {
   "cell_type": "code",
   "execution_count": 52,
   "metadata": {},
   "outputs": [
    {
     "name": "stdout",
     "output_type": "stream",
     "text": [
      "104\n"
     ]
    }
   ],
   "source": [
    "rand_al = al_atoms[random.randrange(len(al_atoms))]\n",
    "print(rand_al)"
   ]
  },
  {
   "cell_type": "code",
   "execution_count": 110,
   "metadata": {},
   "outputs": [
    {
     "name": "stdout",
     "output_type": "stream",
     "text": [
      "Al : [ 5.89594543 34.33632324 19.92149255] : index 104\n",
      "O : [ 4.91328786 31.53952861 17.84468356] : index 113\n",
      "O : [ 4.13283098 37.05752882 18.2453055 ] : index 121\n",
      "O : [ 6.63671806 31.39590943 21.7356296 ] : index 122\n",
      "O : [ 2.73632339 34.75773216 21.49374466] : index 127\n",
      "O : [ 8.73620376 34.76340134 17.75397671] : index 246\n",
      "O : [ 7.76677427 36.83265142 21.6052385 ] : index 260\n"
     ]
    }
   ],
   "source": [
    "# get near atoms\n",
    "cell = [100, 100, 100]\n",
    "positions_l = []\n",
    "frame_distances = baseframe.get_all_distances()[rand_al]\n",
    "for i in range(len(frame_distances)):\n",
    "    if frame_distances[i] <= 3.8:\n",
    "        symbol = baseframe.symbols[i]\n",
    "        positions = baseframe.positions[i]\n",
    "        positions_l.append(list(positions))\n",
    "        print(f'{symbol} : {positions} : index {i}')\n",
    "        \n",
    "atoms = Atoms('AlO6', positions_l)"
   ]
  },
  {
   "cell_type": "code",
   "execution_count": 74,
   "metadata": {},
   "outputs": [
    {
     "data": {
      "application/vnd.jupyter.widget-view+json": {
       "model_id": "3964e5e90629431ca9bfb3967c2c805b",
       "version_major": 2,
       "version_minor": 0
      },
      "text/plain": [
       "HBox(children=(NGLWidget(), VBox(children=(Dropdown(description='Show', options=('All', 'O', 'Al'), value='All…"
      ]
     },
     "metadata": {},
     "output_type": "display_data"
    }
   ],
   "source": [
    "view(atoms, viewer='ngl')"
   ]
  },
  {
   "cell_type": "code",
   "execution_count": 90,
   "metadata": {},
   "outputs": [
    {
     "data": {
      "text/plain": [
       "array([-0.98265757, -2.79679463, -2.07680899])"
      ]
     },
     "execution_count": 90,
     "metadata": {},
     "output_type": "execute_result"
    }
   ],
   "source": [
    "Alum = np.array([5.89594543, 34.33632324, 19.92149255])\n",
    "Oxy = np.array([4.91328786, 31.53952861, 17.84468356])\n",
    "\n",
    "origin = np.array([0, 0, 0])\n",
    "\n",
    "vector_d = Oxy - Alum\n",
    "vector_d \n",
    "#sum_d = 0\n",
    "#for i in range(vector_d.shape[0]):\n",
    "#    sum_d += float(vector_d[i])**2\n",
    "    "
   ]
  },
  {
   "cell_type": "code",
   "execution_count": 105,
   "metadata": {},
   "outputs": [
    {
     "name": "stdout",
     "output_type": "stream",
     "text": [
      "3.35755: [-0.9115408  -2.59438536 -1.92650643]\n",
      "3.0955999999999997: [-0.84042403 -2.39197609 -1.77620387]\n",
      "2.8336499999999996: [-0.76930726 -2.18956682 -1.62590131]\n",
      "2.5716999999999994: [-0.69819049 -1.98715755 -1.47559875]\n",
      "2.3097499999999993: [-0.62707372 -1.78474828 -1.32529619]\n",
      "2.047799999999999: [-0.55595695 -1.58233901 -1.17499363]\n",
      "1.785849999999999: [-0.48484018 -1.37992974 -1.02469107]\n",
      "1.523899999999999: [-0.41372341 -1.17752047 -0.87438851]\n",
      "1.2619499999999988: [-0.34260664 -0.9751112  -0.72408595]\n",
      "0.9999999999999988: [-0.27148987 -0.77270193 -0.57378339]\n"
     ]
    }
   ],
   "source": [
    "b_OO = 3.6195\n",
    "b_O = 3.6195\n",
    "list_bs = []\n",
    "array_BO = np.zeros([10,4])\n",
    "for i in range(10):\n",
    "    b_O -= 0.26195\n",
    "    list_bs.append(b_O)\n",
    "    vector_N = vector_d * (b_O/b_OO)\n",
    "    print(f'{b_O}: {vector_N}')\n",
    "    array_BO[i,0] = b_O\n",
    "    array_BO[i,1] = vector_N[0]\n",
    "    array_BO[i,2] = vector_N[1]\n",
    "    array_BO[i,3] = vector_N[2]\n",
    "\n",
    "array_BO = np.array(list_lines)\n",
    "np.save('Al-O_vectors.npy', array_BO)"
   ]
  },
  {
   "cell_type": "code",
   "execution_count": 109,
   "metadata": {},
   "outputs": [
    {
     "data": {
      "text/plain": [
       "array([[ 4.98440463, 31.74193788, 17.99498612],\n",
       "       [ 5.0555214 , 31.94434715, 18.14528868],\n",
       "       [ 5.12663817, 32.14675642, 18.29559124],\n",
       "       [ 5.19775494, 32.34916569, 18.4458938 ],\n",
       "       [ 5.26887171, 32.55157496, 18.59619636],\n",
       "       [ 5.33998848, 32.75398423, 18.74649892],\n",
       "       [ 5.41110525, 32.9563935 , 18.89680148],\n",
       "       [ 5.48222202, 33.15880277, 19.04710404],\n",
       "       [ 5.55333879, 33.36121204, 19.1974066 ],\n",
       "       [ 5.62445556, 33.56362131, 19.34770916]])"
      ]
     },
     "execution_count": 109,
     "metadata": {},
     "output_type": "execute_result"
    }
   ],
   "source": [
    "# compute the new oxygen position vector as Cartesian coordinates\n",
    "Oxy_array = np.zeros([10,3])\n",
    "for i in range(array_BO.shape[0]):\n",
    "    Oxy_array[i,:] = Alum + array_BO[i,1:]\n",
    "    \n",
    "Oxy_array\n",
    "np.save('O_positions.npy', Oxy_array)"
   ]
  },
  {
   "cell_type": "code",
   "execution_count": 118,
   "metadata": {},
   "outputs": [],
   "source": [
    "for i in range(Oxy_array.shape[0]):\n",
    "    new_frame = baseframe\n",
    "    positions = new_frame.positions\n",
    "    positions[113] = Oxy_array[i,:]\n",
    "    string = f'Al-O_{round(array_BO[i,0], 5)}.xyz'\n",
    "    write(string, new_frame)"
   ]
  },
  {
   "cell_type": "code",
   "execution_count": null,
   "metadata": {},
   "outputs": [],
   "source": []
  }
 ],
 "metadata": {
  "kernelspec": {
   "display_name": "Python 3",
   "language": "python",
   "name": "python3"
  },
  "language_info": {
   "codemirror_mode": {
    "name": "ipython",
    "version": 3
   },
   "file_extension": ".py",
   "mimetype": "text/x-python",
   "name": "python",
   "nbconvert_exporter": "python",
   "pygments_lexer": "ipython3",
   "version": "3.8.2"
  }
 },
 "nbformat": 4,
 "nbformat_minor": 4
}
