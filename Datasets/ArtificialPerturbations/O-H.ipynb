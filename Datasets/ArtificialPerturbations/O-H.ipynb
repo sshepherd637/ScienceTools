{
 "cells": [
  {
   "cell_type": "code",
   "execution_count": 1,
   "metadata": {},
   "outputs": [],
   "source": [
    "# load modules to view the bonds we need to move"
   ]
  },
  {
   "cell_type": "code",
   "execution_count": 1,
   "metadata": {},
   "outputs": [],
   "source": [
    "from ase.io import read, write\n",
    "from ase.visualize import view\n",
    "from ase import Atoms\n",
    "import os\n",
    "import numpy as np\n",
    "import random"
   ]
  },
  {
   "cell_type": "code",
   "execution_count": 2,
   "metadata": {},
   "outputs": [],
   "source": [
    "frame = read('BaseFrame.xyz', ':')\n",
    "baseframe = frame[0]\n",
    "baseframe.wrap(eps=1e-15)"
   ]
  },
  {
   "cell_type": "code",
   "execution_count": 3,
   "metadata": {},
   "outputs": [
    {
     "data": {
      "application/vnd.jupyter.widget-view+json": {
       "model_id": "86cee839f67a44e19c7e15ad5479a5d4",
       "version_major": 2,
       "version_minor": 0
      },
      "text/plain": []
     },
     "metadata": {},
     "output_type": "display_data"
    },
    {
     "data": {
      "application/vnd.jupyter.widget-view+json": {
       "model_id": "e97b0498dfb74d5fb026956e8bc5facc",
       "version_major": 2,
       "version_minor": 0
      },
      "text/plain": [
       "HBox(children=(NGLWidget(), VBox(children=(Dropdown(description='Show', options=('All', 'H', 'Al', 'O', 'Si'),…"
      ]
     },
     "metadata": {},
     "output_type": "display_data"
    }
   ],
   "source": [
    "view(baseframe, viewer='ngl')"
   ]
  },
  {
   "cell_type": "code",
   "execution_count": 5,
   "metadata": {},
   "outputs": [],
   "source": [
    "O_atoms = []\n",
    "for i in range(len(baseframe)):\n",
    "    if baseframe.symbols[i] == 'O':\n",
    "        O_atoms.append(i)"
   ]
  },
  {
   "cell_type": "code",
   "execution_count": 17,
   "metadata": {},
   "outputs": [
    {
     "name": "stdout",
     "output_type": "stream",
     "text": [
      "160\n"
     ]
    }
   ],
   "source": [
    "rand_O = O_atoms[random.randrange(len(O_atoms))]\n",
    "print(rand_O)"
   ]
  },
  {
   "cell_type": "code",
   "execution_count": 20,
   "metadata": {},
   "outputs": [
    {
     "name": "stdout",
     "output_type": "stream",
     "text": [
      "O : [ 6.84080848 13.12225804  8.08613798] : index 160\n",
      "H : [ 6.42128929 12.62337035  9.76799421] : index 169\n"
     ]
    }
   ],
   "source": [
    "# get near atoms\n",
    "cell = [100, 100, 100]\n",
    "positions_l = []\n",
    "frame_distances = baseframe.get_all_distances()[rand_O]\n",
    "for i in range(len(frame_distances)):\n",
    "    if frame_distances[i] <= 3.5:\n",
    "        symbol = baseframe.symbols[i]\n",
    "        positions = baseframe.positions[i]\n",
    "        positions_l.append(list(positions))\n",
    "        print(f'{symbol} : {positions} : index {i}')\n",
    "        \n",
    "atoms = Atoms('OH', positions_l)"
   ]
  },
  {
   "cell_type": "code",
   "execution_count": 21,
   "metadata": {},
   "outputs": [
    {
     "data": {
      "application/vnd.jupyter.widget-view+json": {
       "model_id": "25cce9f21d20483fb6bde24d181b0dcb",
       "version_major": 2,
       "version_minor": 0
      },
      "text/plain": [
       "HBox(children=(NGLWidget(), VBox(children=(Dropdown(description='Show', options=('All', 'H', 'O'), value='All'…"
      ]
     },
     "metadata": {},
     "output_type": "display_data"
    }
   ],
   "source": [
    "view(atoms, viewer='ngl')"
   ]
  },
  {
   "cell_type": "code",
   "execution_count": 22,
   "metadata": {},
   "outputs": [
    {
     "name": "stdout",
     "output_type": "stream",
     "text": [
      "[ 0.41951919  0.49888769 -1.68185623] 1.803753213829875\n"
     ]
    }
   ],
   "source": [
    "Oxy = np.array([6.84080848, 13.12225804,  8.08613798])\n",
    "H = np.array([6.42128929, 12.62337035,  9.76799421])\n",
    "\n",
    "origin = np.array([0, 0, 0])\n",
    "\n",
    "vector_d = Oxy - H\n",
    "vector_d \n",
    "sum_d = 0\n",
    "for i in range(vector_d.shape[0]):\n",
    "    sum_d += float(vector_d[i])**2\n",
    "    \n",
    "mag = np.sqrt(sum_d)\n",
    "print(vector_d, mag)"
   ]
  },
  {
   "cell_type": "code",
   "execution_count": 24,
   "metadata": {},
   "outputs": [
    {
     "name": "stdout",
     "output_type": "stream",
     "text": [
      "1.7233778924468877: [ 0.4008254   0.47665723 -1.60691264]\n",
      "1.6430025710639002: [ 0.3821316   0.45442678 -1.53196906]\n",
      "1.5626272496809128: [ 0.36343781  0.43219632 -1.45702547]\n",
      "1.4822519282979254: [ 0.34474402  0.40996586 -1.38208188]\n",
      "1.401876606914938: [ 0.32605022  0.3877354  -1.3071383 ]\n",
      "1.3215012855319506: [ 0.30735643  0.36550495 -1.23219471]\n",
      "1.2411259641489631: [ 0.28866264  0.34327449 -1.15725112]\n",
      "1.1607506427659757: [ 0.26996884  0.32104403 -1.08230754]\n",
      "1.0803753213829883: [ 0.25127505  0.29881358 -1.00736395]\n",
      "1.0000000000000009: [ 0.23258126  0.27658312 -0.93242036]\n"
     ]
    }
   ],
   "source": [
    "b_OO = 1.803753213829875\n",
    "b_O = 1.803753213829875\n",
    "list_bs = []\n",
    "array_BO = np.zeros([10,4])\n",
    "for i in range(10):\n",
    "    b_O -= 0.0803753213829875\n",
    "    list_bs.append(b_O)\n",
    "    vector_N = vector_d * (b_O/b_OO)\n",
    "    print(f'{b_O}: {vector_N}')\n",
    "    array_BO[i,0] = b_O\n",
    "    array_BO[i,1] = vector_N[0]\n",
    "    array_BO[i,2] = vector_N[1]\n",
    "    array_BO[i,3] = vector_N[2]\n",
    "\n",
    "array_BO\n",
    "np.save('O-H_vectors.npy', array_BO)"
   ]
  },
  {
   "cell_type": "code",
   "execution_count": 29,
   "metadata": {},
   "outputs": [],
   "source": [
    "# compute the new oxygen position vector as Cartesian coordinates\n",
    "H_array = np.zeros([10,3])\n",
    "for i in range(array_BO.shape[0]):\n",
    "    H_array[i,:] = Oxy + array_BO[i,1:]\n",
    "    \n",
    "H_array\n",
    "np.save('H_positions.npy', H_array)"
   ]
  },
  {
   "cell_type": "code",
   "execution_count": 30,
   "metadata": {},
   "outputs": [
    {
     "name": "stdout",
     "output_type": "stream",
     "text": [
      "[ 7.24163388 13.59891527  6.47922534]\n",
      "[ 7.22294008 13.57668482  6.55416892]\n",
      "[ 7.20424629 13.55445436  6.62911251]\n",
      "[ 7.1855525 13.5322239  6.7040561]\n",
      "[ 7.1668587  13.50999344  6.77899968]\n",
      "[ 7.14816491 13.48776299  6.85394327]\n",
      "[ 7.12947112 13.46553253  6.92888686]\n",
      "[ 7.11077732 13.44330207  7.00383044]\n",
      "[ 7.09208353 13.42107162  7.07877403]\n",
      "[ 7.07338974 13.39884116  7.15371762]\n"
     ]
    }
   ],
   "source": [
    "for i in range(H_array.shape[0]):\n",
    "    new_frame = baseframe\n",
    "    positions = new_frame.positions\n",
    "    positions[169] = H_array[i,:]\n",
    "    string = f'O-H_{round(array_BO[i,0], 5)}.xyz'\n",
    "    print(positions[169])\n",
    "    #write(string, new_frame)"
   ]
  },
  {
   "cell_type": "code",
   "execution_count": null,
   "metadata": {},
   "outputs": [],
   "source": []
  }
 ],
 "metadata": {
  "kernelspec": {
   "display_name": "Python 3",
   "language": "python",
   "name": "python3"
  },
  "language_info": {
   "codemirror_mode": {
    "name": "ipython",
    "version": 3
   },
   "file_extension": ".py",
   "mimetype": "text/x-python",
   "name": "python",
   "nbconvert_exporter": "python",
   "pygments_lexer": "ipython3",
   "version": "3.8.7"
  }
 },
 "nbformat": 4,
 "nbformat_minor": 4
}
