{
 "cells": [
  {
   "cell_type": "code",
   "execution_count": 1,
   "metadata": {},
   "outputs": [],
   "source": [
    "# load modules to view the bonds we need to move"
   ]
  },
  {
   "cell_type": "code",
   "execution_count": 1,
   "metadata": {},
   "outputs": [],
   "source": [
    "from ase.io import read, write\n",
    "from ase.visualize import view\n",
    "from ase import Atoms\n",
    "import os\n",
    "import numpy as np\n",
    "import random"
   ]
  },
  {
   "cell_type": "code",
   "execution_count": 2,
   "metadata": {},
   "outputs": [],
   "source": [
    "frame = read('BaseFrame.xyz', ':')\n",
    "baseframe = frame[0]\n",
    "baseframe.wrap(eps=1e-15)"
   ]
  },
  {
   "cell_type": "code",
   "execution_count": 3,
   "metadata": {},
   "outputs": [
    {
     "data": {
      "application/vnd.jupyter.widget-view+json": {
       "model_id": "83bbbcaacc61467f8d304fbc21f4fea4",
       "version_major": 2,
       "version_minor": 0
      },
      "text/plain": []
     },
     "metadata": {},
     "output_type": "display_data"
    },
    {
     "data": {
      "application/vnd.jupyter.widget-view+json": {
       "model_id": "1b151bd1318d4b54a286447a3dca0497",
       "version_major": 2,
       "version_minor": 0
      },
      "text/plain": [
       "HBox(children=(NGLWidget(), VBox(children=(Dropdown(description='Show', options=('All', 'Al', 'O', 'Si', 'H'),…"
      ]
     },
     "metadata": {},
     "output_type": "display_data"
    }
   ],
   "source": [
    "view(baseframe, viewer='ngl')"
   ]
  },
  {
   "cell_type": "code",
   "execution_count": 6,
   "metadata": {},
   "outputs": [],
   "source": [
    "si_atoms = []\n",
    "for i in range(len(baseframe)):\n",
    "    if baseframe.symbols[i] == 'Si':\n",
    "        si_atoms.append(i)"
   ]
  },
  {
   "cell_type": "code",
   "execution_count": 15,
   "metadata": {},
   "outputs": [
    {
     "name": "stdout",
     "output_type": "stream",
     "text": [
      "106\n"
     ]
    }
   ],
   "source": [
    "rand_si = si_atoms[random.randrange(len(si_atoms))]\n",
    "print(rand_si)"
   ]
  },
  {
   "cell_type": "code",
   "execution_count": 18,
   "metadata": {},
   "outputs": [
    {
     "name": "stdout",
     "output_type": "stream",
     "text": [
      "Si : [ 8.99131678 34.5290753  14.7341944 ] : index 106\n",
      "O : [ 6.24176531 33.79208212 13.55122586] : index 119\n",
      "O : [ 8.73620376 34.76340134 17.75397671] : index 246\n",
      "O : [ 9.95696682 37.31075212 13.40949641] : index 250\n",
      "O : [11.17017098 32.3351033  14.03499574] : index 252\n"
     ]
    }
   ],
   "source": [
    "# get near atoms\n",
    "cell = [100, 100, 100]\n",
    "positions_l = []\n",
    "frame_distances = baseframe.get_all_distances()[rand_si]\n",
    "for i in range(len(frame_distances)):\n",
    "    if frame_distances[i] <= 5:\n",
    "        symbol = baseframe.symbols[i]\n",
    "        positions = baseframe.positions[i]\n",
    "        positions_l.append(list(positions))\n",
    "        print(f'{symbol} : {positions} : index {i}')\n",
    "        \n",
    "atoms = Atoms('SiO4', positions_l)"
   ]
  },
  {
   "cell_type": "code",
   "execution_count": 19,
   "metadata": {},
   "outputs": [
    {
     "data": {
      "application/vnd.jupyter.widget-view+json": {
       "model_id": "1a3648a22e944b5f811bf25908953ce3",
       "version_major": 2,
       "version_minor": 0
      },
      "text/plain": [
       "HBox(children=(NGLWidget(), VBox(children=(Dropdown(description='Show', options=('All', 'O', 'Si'), value='All…"
      ]
     },
     "metadata": {},
     "output_type": "display_data"
    }
   ],
   "source": [
    "view(atoms, viewer='ngl')"
   ]
  },
  {
   "cell_type": "code",
   "execution_count": 23,
   "metadata": {},
   "outputs": [
    {
     "name": "stdout",
     "output_type": "stream",
     "text": [
      "[-0.25511302  0.23432604  3.01978231] 3.039584929852189\n"
     ]
    }
   ],
   "source": [
    "Si = np.array([8.99131678, 34.5290753,  14.7341944])\n",
    "Oxy = np.array([8.73620376, 34.76340134, 17.75397671])\n",
    "\n",
    "origin = np.array([0, 0, 0])\n",
    "\n",
    "vector_d = Oxy - Si\n",
    "vector_d \n",
    "sum_d = 0\n",
    "for i in range(vector_d.shape[0]):\n",
    "    sum_d += float(vector_d[i])**2\n",
    "    \n",
    "mag = np.sqrt(sum_d)\n",
    "print(vector_d, mag)"
   ]
  },
  {
   "cell_type": "code",
   "execution_count": 26,
   "metadata": {},
   "outputs": [
    {
     "name": "stdout",
     "output_type": "stream",
     "text": [
      "2.83562643686697: [-0.23799474  0.21860258  2.81715259]\n",
      "2.631667943881751: [-0.22087646  0.20287912  2.61452287]\n",
      "2.4277094508965322: [-0.20375818  0.18715567  2.41189314]\n",
      "2.2237509579113133: [-0.1866399   0.17143221  2.20926342]\n",
      "2.0197924649260943: [-0.16952162  0.15570875  2.0066337 ]\n",
      "1.8158339719408754: [-0.15240334  0.13998529  1.80400398]\n",
      "1.6118754789556564: [-0.13528506  0.12426183  1.60137426]\n",
      "1.4079169859704375: [-0.11816678  0.10853838  1.39874453]\n",
      "1.2039584929852185: [-0.1010485   0.09281492  1.19611481]\n",
      "0.9999999999999996: [-0.08393022  0.07709146  0.99348509]\n"
     ]
    }
   ],
   "source": [
    "b_OO = 3.039584929852189\n",
    "b_O = 3.039584929852189\n",
    "list_bs = []\n",
    "array_BO = np.zeros([10,4])\n",
    "for i in range(10):\n",
    "    b_O -= 0.2039584929852189\n",
    "    list_bs.append(b_O)\n",
    "    vector_N = vector_d * (b_O/b_OO)\n",
    "    print(f'{b_O}: {vector_N}')\n",
    "    array_BO[i,0] = b_O\n",
    "    array_BO[i,1] = vector_N[0]\n",
    "    array_BO[i,2] = vector_N[1]\n",
    "    array_BO[i,3] = vector_N[2]\n",
    "\n",
    "array_BO\n",
    "np.save('Si-O_vectors.npy', array_BO)"
   ]
  },
  {
   "cell_type": "code",
   "execution_count": 28,
   "metadata": {},
   "outputs": [],
   "source": [
    "# compute the new oxygen position vector as Cartesian coordinates\n",
    "Oxy_array = np.zeros([10,3])\n",
    "for i in range(array_BO.shape[0]):\n",
    "    Oxy_array[i,:] = Si + array_BO[i,1:]\n",
    "    \n",
    "Oxy_array\n",
    "np.save('O_positions.npy', Oxy_array)"
   ]
  },
  {
   "cell_type": "code",
   "execution_count": 31,
   "metadata": {},
   "outputs": [],
   "source": [
    "for i in range(Oxy_array.shape[0]):\n",
    "    new_frame = baseframe\n",
    "    positions = new_frame.positions\n",
    "    positions[246] = Oxy_array[i,:]\n",
    "    string = f'Si-O_{round(array_BO[i,0], 5)}.xyz'\n",
    "    write(string, new_frame)"
   ]
  },
  {
   "cell_type": "code",
   "execution_count": null,
   "metadata": {},
   "outputs": [],
   "source": []
  }
 ],
 "metadata": {
  "kernelspec": {
   "display_name": "Python 3",
   "language": "python",
   "name": "python3"
  },
  "language_info": {
   "codemirror_mode": {
    "name": "ipython",
    "version": 3
   },
   "file_extension": ".py",
   "mimetype": "text/x-python",
   "name": "python",
   "nbconvert_exporter": "python",
   "pygments_lexer": "ipython3",
   "version": "3.8.2"
  }
 },
 "nbformat": 4,
 "nbformat_minor": 4
}
